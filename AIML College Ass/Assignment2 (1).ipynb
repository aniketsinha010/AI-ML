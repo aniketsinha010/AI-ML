{
  "nbformat": 4,
  "nbformat_minor": 0,
  "metadata": {
    "colab": {
      "provenance": []
    },
    "kernelspec": {
      "name": "python3",
      "display_name": "Python 3"
    },
    "language_info": {
      "name": "python"
    }
  },
  "cells": [
    {
      "cell_type": "code",
      "execution_count": null,
      "metadata": {
        "colab": {
          "base_uri": "https://localhost:8080/"
        },
        "id": "qci4SMGHqjCG",
        "outputId": "4850ef9d-e952-4505-9655-309ba206118a"
      },
      "outputs": [
        {
          "output_type": "stream",
          "name": "stdout",
          "text": [
            "employee_data.csv has been created with 200 records and intentional missing values.\n"
          ]
        }
      ],
      "source": [
        "import pandas as pd\n",
        "import random\n",
        "import numpy as np\n",
        "\n",
        "random.seed(42)\n",
        "\n",
        "num_records = 200\n",
        "employee_ids = range(1, num_records + 1)\n",
        "names = [f'Employee_{i}' for i in employee_ids]\n",
        "ages = [random.randint(22, 60) for _ in range(num_records)]\n",
        "departments = random.choices(['HR', 'IT', 'Finance', 'Marketing', 'Sales'], k=num_records)\n",
        "salaries = [random.randint(30000, 120000) for _ in range(num_records)]\n",
        "\n",
        "\n",
        "for _ in range(20):\n",
        "    idx = random.randint(0, num_records - 1)\n",
        "    ages[idx] = None\n",
        "\n",
        "for _ in range(15):\n",
        "    idx = random.randint(0, num_records - 1)\n",
        "    salaries[idx] = None\n",
        "\n",
        "\n",
        "employee_data = pd.DataFrame({\n",
        "    'EmployeeID': employee_ids,\n",
        "    'Name': names,\n",
        "    'Age': ages,\n",
        "    'Department': departments,\n",
        "    'Salary': salaries\n",
        "})\n",
        "\n",
        "employee_data.to_csv('employee_data.csv', index=False)\n",
        "print(\"employee_data.csv has been created with 200 records and intentional missing values.\")"
      ]
    },
    {
      "cell_type": "code",
      "source": [
        "df = pd.read_csv('employee_data.csv')\n",
        "\n",
        "print(\"First 5 rows:\")\n",
        "print(df.head())\n",
        "print(\"\\nLast 5 rows:\")\n",
        "print(df.tail())\n",
        "print(\"\\nShape of the DataFrame:\", df.shape)\n",
        "print(\"\\nDataFrame Info:\")\n",
        "print(df.info())"
      ],
      "metadata": {
        "colab": {
          "base_uri": "https://localhost:8080/"
        },
        "id": "kFqnMpoKsMTF",
        "outputId": "416ef6e4-48ae-4332-8790-20da51f2b10b"
      },
      "execution_count": null,
      "outputs": [
        {
          "output_type": "stream",
          "name": "stdout",
          "text": [
            "First 5 rows:\n",
            "   EmployeeID        Name   Age Department    Salary\n",
            "0           1  Employee_1  29.0  Marketing   71114.0\n",
            "1           2  Employee_2  23.0         HR   87199.0\n",
            "2           3  Employee_3  39.0         HR  109457.0\n",
            "3           4  Employee_4  37.0         HR   97033.0\n",
            "4           5  Employee_5   NaN         IT   45157.0\n",
            "\n",
            "Last 5 rows:\n",
            "     EmployeeID          Name   Age Department    Salary\n",
            "195         196  Employee_196  36.0    Finance  114246.0\n",
            "196         197  Employee_197  59.0      Sales   86179.0\n",
            "197         198  Employee_198  36.0         HR   47786.0\n",
            "198         199  Employee_199  22.0    Finance   90515.0\n",
            "199         200  Employee_200  26.0         IT       NaN\n",
            "\n",
            "Shape of the DataFrame: (200, 5)\n",
            "\n",
            "DataFrame Info:\n",
            "<class 'pandas.core.frame.DataFrame'>\n",
            "RangeIndex: 200 entries, 0 to 199\n",
            "Data columns (total 5 columns):\n",
            " #   Column      Non-Null Count  Dtype  \n",
            "---  ------      --------------  -----  \n",
            " 0   EmployeeID  200 non-null    int64  \n",
            " 1   Name        200 non-null    object \n",
            " 2   Age         182 non-null    float64\n",
            " 3   Department  200 non-null    object \n",
            " 4   Salary      186 non-null    float64\n",
            "dtypes: float64(2), int64(1), object(2)\n",
            "memory usage: 7.9+ KB\n",
            "None\n"
          ]
        }
      ]
    },
    {
      "cell_type": "code",
      "source": [
        "print(\"\\nBasic Statistics:\")\n",
        "print(df.describe())\n",
        "\n",
        "mean_salary = df['Salary'].mean()\n",
        "median_salary = df['Salary'].median()\n",
        "min_salary = df['Salary'].min()\n",
        "max_salary = df['Salary'].max()\n",
        "\n",
        "print(f\"\\nMean Salary: {mean_salary}\")\n",
        "print(f\"Median Salary: {median_salary}\")\n",
        "print(f\"Min Salary: {min_salary}\")\n",
        "print(f\"Max Salary: {max_salary}\")\n",
        "\n",
        "non_numeric_columns = df.select_dtypes(exclude=[np.number]).columns.tolist()\n",
        "print(\"\\nNon-numeric columns:\", non_numeric_columns)"
      ],
      "metadata": {
        "colab": {
          "base_uri": "https://localhost:8080/"
        },
        "id": "BED9lWUQsaVK",
        "outputId": "ac9f42c4-2fc5-461b-cb9b-4c2d24bf7e7c"
      },
      "execution_count": null,
      "outputs": [
        {
          "output_type": "stream",
          "name": "stdout",
          "text": [
            "\n",
            "Basic Statistics:\n",
            "       EmployeeID         Age         Salary\n",
            "count  200.000000  182.000000     186.000000\n",
            "mean   100.500000   40.989011   78798.360215\n",
            "std     57.879185   11.636288   24991.261167\n",
            "min      1.000000   22.000000   30053.000000\n",
            "25%     50.750000   31.000000   58796.500000\n",
            "50%    100.500000   39.000000   82563.000000\n",
            "75%    150.250000   51.000000   99910.000000\n",
            "max    200.000000   60.000000  119016.000000\n",
            "\n",
            "Mean Salary: 78798.36021505376\n",
            "Median Salary: 82563.0\n",
            "Min Salary: 30053.0\n",
            "Max Salary: 119016.0\n",
            "\n",
            "Non-numeric columns: ['Name', 'Department']\n"
          ]
        }
      ]
    },
    {
      "cell_type": "code",
      "source": [
        "missing_values = df.isna().sum()\n",
        "print(\"\\nMissing values in each column:\")\n",
        "print(missing_values)\n",
        "\n",
        "df_dropped = df.dropna(subset=['Age', 'Salary'])\n",
        "\n",
        "df_filled = df.copy()\n",
        "df_filled['Age'].fillna(df_filled['Age'].mean(), inplace=True)\n",
        "df_filled['Salary'].fillna(df_filled['Salary'].mean(), inplace=True)\n",
        "\n",
        "print(\"\\nDataFrame after dropping missing values:\")\n",
        "print(df_dropped.info())\n",
        "print(\"\\nDataFrame after filling missing values:\")\n",
        "print(df_filled.info())"
      ],
      "metadata": {
        "colab": {
          "base_uri": "https://localhost:8080/"
        },
        "id": "JkA-MoRjsjhB",
        "outputId": "adc23d98-9e8b-4bc7-e728-788a183c6747"
      },
      "execution_count": null,
      "outputs": [
        {
          "output_type": "stream",
          "name": "stdout",
          "text": [
            "\n",
            "Missing values in each column:\n",
            "EmployeeID     0\n",
            "Name           0\n",
            "Age           18\n",
            "Department     0\n",
            "Salary        14\n",
            "dtype: int64\n",
            "\n",
            "DataFrame after dropping missing values:\n",
            "<class 'pandas.core.frame.DataFrame'>\n",
            "Index: 168 entries, 0 to 198\n",
            "Data columns (total 5 columns):\n",
            " #   Column      Non-Null Count  Dtype  \n",
            "---  ------      --------------  -----  \n",
            " 0   EmployeeID  168 non-null    int64  \n",
            " 1   Name        168 non-null    object \n",
            " 2   Age         168 non-null    float64\n",
            " 3   Department  168 non-null    object \n",
            " 4   Salary      168 non-null    float64\n",
            "dtypes: float64(2), int64(1), object(2)\n",
            "memory usage: 7.9+ KB\n",
            "None\n",
            "\n",
            "DataFrame after filling missing values:\n",
            "<class 'pandas.core.frame.DataFrame'>\n",
            "RangeIndex: 200 entries, 0 to 199\n",
            "Data columns (total 5 columns):\n",
            " #   Column      Non-Null Count  Dtype  \n",
            "---  ------      --------------  -----  \n",
            " 0   EmployeeID  200 non-null    int64  \n",
            " 1   Name        200 non-null    object \n",
            " 2   Age         200 non-null    float64\n",
            " 3   Department  200 non-null    object \n",
            " 4   Salary      200 non-null    float64\n",
            "dtypes: float64(2), int64(1), object(2)\n",
            "memory usage: 7.9+ KB\n",
            "None\n"
          ]
        },
        {
          "output_type": "stream",
          "name": "stderr",
          "text": [
            "<ipython-input-4-39d0d4676760>:8: FutureWarning: A value is trying to be set on a copy of a DataFrame or Series through chained assignment using an inplace method.\n",
            "The behavior will change in pandas 3.0. This inplace method will never work because the intermediate object on which we are setting values always behaves as a copy.\n",
            "\n",
            "For example, when doing 'df[col].method(value, inplace=True)', try using 'df.method({col: value}, inplace=True)' or df[col] = df[col].method(value) instead, to perform the operation inplace on the original object.\n",
            "\n",
            "\n",
            "  df_filled['Age'].fillna(df_filled['Age'].mean(), inplace=True)\n",
            "<ipython-input-4-39d0d4676760>:9: FutureWarning: A value is trying to be set on a copy of a DataFrame or Series through chained assignment using an inplace method.\n",
            "The behavior will change in pandas 3.0. This inplace method will never work because the intermediate object on which we are setting values always behaves as a copy.\n",
            "\n",
            "For example, when doing 'df[col].method(value, inplace=True)', try using 'df.method({col: value}, inplace=True)' or df[col] = df[col].method(value) instead, to perform the operation inplace on the original object.\n",
            "\n",
            "\n",
            "  df_filled['Salary'].fillna(df_filled['Salary'].mean(), inplace=True)\n"
          ]
        }
      ]
    },
    {
      "cell_type": "code",
      "source": [
        "missing_department = df[df['Department'].isna()]\n",
        "non_missing_department = df[df['Department'].notna()]\n",
        "\n",
        "print(\"\\nEmployees with missing department:\")\n",
        "print(missing_department)\n",
        "\n",
        "age_filtered = df[(df['Age'] >= 30) & (df['Age'] <= 40)]\n",
        "print(\"\\nEmployees aged between 30 and 40:\")\n",
        "print(age_filtered)\n",
        "\n",
        "df['City'] = random.choices(['New York', 'Los Angeles', 'Chicago', None], k=num_records)\n",
        "high_salary_non_missing_city = df[(df['Salary'] > 100000) & (df['City'].notna())]\n",
        "print(\"\\nEmployees with salary > 100,000 and non-missing city:\")\n",
        "print(high_salary_non_missing_city)"
      ],
      "metadata": {
        "colab": {
          "base_uri": "https://localhost:8080/"
        },
        "id": "_viPJ44yssdC",
        "outputId": "3ddc091d-bdef-4032-df45-4d1595d6d161"
      },
      "execution_count": null,
      "outputs": [
        {
          "output_type": "stream",
          "name": "stdout",
          "text": [
            "\n",
            "Employees with missing department:\n",
            "Empty DataFrame\n",
            "Columns: [EmployeeID, Name, Age, Department, Salary]\n",
            "Index: []\n",
            "\n",
            "Employees aged between 30 and 40:\n",
            "     EmployeeID          Name   Age Department    Salary\n",
            "2             3    Employee_3  39.0         HR  109457.0\n",
            "3             4    Employee_4  37.0         HR   97033.0\n",
            "5             6    Employee_6  30.0    Finance       NaN\n",
            "14           15   Employee_15  35.0    Finance  117900.0\n",
            "15           16   Employee_16  36.0         HR   55825.0\n",
            "23           24   Employee_24  36.0         HR  116951.0\n",
            "26           27   Employee_27  39.0         HR   96469.0\n",
            "28           29   Employee_29  32.0    Finance  117410.0\n",
            "31           32   Employee_32  39.0    Finance   82743.0\n",
            "32           33   Employee_33  31.0      Sales   68752.0\n",
            "33           34   Employee_34  35.0         HR  102667.0\n",
            "42           43   Employee_43  38.0         IT  104593.0\n",
            "50           51   Employee_51  40.0      Sales   86346.0\n",
            "53           54   Employee_54  34.0  Marketing  115813.0\n",
            "56           57   Employee_57  36.0  Marketing   87905.0\n",
            "57           58   Employee_58  40.0    Finance       NaN\n",
            "59           60   Employee_60  36.0         IT   58010.0\n",
            "62           63   Employee_63  39.0         HR   52241.0\n",
            "65           66   Employee_66  32.0    Finance   67196.0\n",
            "68           69   Employee_69  35.0         HR  112960.0\n",
            "69           70   Employee_70  39.0    Finance  111167.0\n",
            "72           73   Employee_73  32.0         HR   60784.0\n",
            "74           75   Employee_75  37.0    Finance   70687.0\n",
            "75           76   Employee_76  32.0      Sales   59444.0\n",
            "78           79   Employee_79  39.0         HR   33201.0\n",
            "80           81   Employee_81  36.0  Marketing   62092.0\n",
            "87           88   Employee_88  39.0         HR  105454.0\n",
            "89           90   Employee_90  35.0    Finance       NaN\n",
            "92           93   Employee_93  35.0         HR   61979.0\n",
            "96           97   Employee_97  31.0    Finance   43970.0\n",
            "98           99   Employee_99  30.0         HR   58683.0\n",
            "99          100  Employee_100  37.0         IT   53053.0\n",
            "102         103  Employee_103  38.0         IT   36582.0\n",
            "108         109  Employee_109  36.0    Finance   90901.0\n",
            "109         110  Employee_110  30.0  Marketing  117500.0\n",
            "115         116  Employee_116  31.0      Sales  110301.0\n",
            "125         126  Employee_126  38.0      Sales  113579.0\n",
            "130         131  Employee_131  39.0         IT   61358.0\n",
            "133         134  Employee_134  40.0         HR   40155.0\n",
            "135         136  Employee_136  32.0  Marketing   60735.0\n",
            "140         141  Employee_141  33.0         HR   40561.0\n",
            "146         147  Employee_147  34.0         IT   58043.0\n",
            "147         148  Employee_148  31.0      Sales   38418.0\n",
            "149         150  Employee_150  32.0         HR   83424.0\n",
            "160         161  Employee_161  37.0         HR  105456.0\n",
            "162         163  Employee_163  37.0         HR   92518.0\n",
            "169         170  Employee_170  30.0  Marketing  101582.0\n",
            "170         171  Employee_171  30.0         IT  109069.0\n",
            "173         174  Employee_174  32.0         IT   58760.0\n",
            "174         175  Employee_175  38.0         HR   65774.0\n",
            "178         179  Employee_179  35.0         IT   80968.0\n",
            "180         181  Employee_181  34.0      Sales  117670.0\n",
            "188         189  Employee_189  37.0    Finance   33534.0\n",
            "189         190  Employee_190  36.0  Marketing   81645.0\n",
            "195         196  Employee_196  36.0    Finance  114246.0\n",
            "197         198  Employee_198  36.0         HR   47786.0\n",
            "\n",
            "Employees with salary > 100,000 and non-missing city:\n",
            "     EmployeeID          Name   Age Department    Salary         City\n",
            "2             3    Employee_3  39.0         HR  109457.0      Chicago\n",
            "6             7    Employee_7  28.0         IT  105574.0     New York\n",
            "13           14   Employee_14   NaN    Finance  100575.0     New York\n",
            "14           15   Employee_15  35.0    Finance  117900.0  Los Angeles\n",
            "19           20   Employee_20  57.0      Sales  117062.0     New York\n",
            "21           22   Employee_22  56.0  Marketing  111678.0      Chicago\n",
            "33           34   Employee_34  35.0         HR  102667.0  Los Angeles\n",
            "41           42   Employee_42  60.0  Marketing  110676.0  Los Angeles\n",
            "42           43   Employee_43  38.0         IT  104593.0      Chicago\n",
            "53           54   Employee_54  34.0  Marketing  115813.0     New York\n",
            "58           59   Employee_59  27.0         HR  118555.0  Los Angeles\n",
            "67           68   Employee_68  44.0    Finance  117012.0  Los Angeles\n",
            "68           69   Employee_69  35.0         HR  112960.0     New York\n",
            "82           83   Employee_83  25.0         IT  110120.0      Chicago\n",
            "86           87   Employee_87   NaN         IT  112544.0      Chicago\n",
            "87           88   Employee_88  39.0         HR  105454.0  Los Angeles\n",
            "94           95   Employee_95  47.0    Finance  115990.0      Chicago\n",
            "103         104  Employee_104  59.0    Finance  103060.0     New York\n",
            "109         110  Employee_110  30.0  Marketing  117500.0  Los Angeles\n",
            "111         112  Employee_112  53.0      Sales  103259.0      Chicago\n",
            "112         113  Employee_113  27.0         HR  108047.0      Chicago\n",
            "115         116  Employee_116  31.0      Sales  110301.0  Los Angeles\n",
            "118         119  Employee_119  60.0         IT  101810.0  Los Angeles\n",
            "125         126  Employee_126  38.0      Sales  113579.0  Los Angeles\n",
            "129         130  Employee_130  56.0         HR  112149.0     New York\n",
            "139         140  Employee_140  54.0  Marketing  100798.0  Los Angeles\n",
            "151         152  Employee_152  55.0  Marketing  101121.0     New York\n",
            "158         159  Employee_159  45.0      Sales  106556.0     New York\n",
            "160         161  Employee_161  37.0         HR  105456.0      Chicago\n",
            "168         169  Employee_169  56.0  Marketing  100545.0  Los Angeles\n",
            "169         170  Employee_170  30.0  Marketing  101582.0      Chicago\n",
            "170         171  Employee_171  30.0         IT  109069.0      Chicago\n",
            "180         181  Employee_181  34.0      Sales  117670.0      Chicago\n",
            "181         182  Employee_182  41.0         IT  119016.0      Chicago\n",
            "186         187  Employee_187  50.0  Marketing  111560.0     New York\n",
            "187         188  Employee_188  29.0         IT  100008.0  Los Angeles\n",
            "190         191  Employee_191  26.0      Sales  107580.0     New York\n"
          ]
        }
      ]
    },
    {
      "cell_type": "code",
      "source": [
        "sorted_df = df.sort_values(by=['Department', 'Age'], ascending=[True, True])\n",
        "print(\"\\nSorted DataFrame by Department and Age:\")\n",
        "print(sorted_df.head(10))\n",
        "\n",
        "top_5_salaries = df.nlargest(5, 'Salary')\n",
        "bottom_5_salaries = df.nsmallest(5, 'Salary')\n",
        "\n",
        "print(\"\\nTop 5 Salaries:\")\n",
        "print(top_5_salaries[['Name', 'Salary']])\n",
        "print(\"\\nBottom 5 Salaries:\")\n",
        "print(bottom_5_salaries[['Name', 'Salary']])\n",
        "\n",
        "df['Salary_Rank'] = df['Salary'].rank(ascending=False)\n",
        "print(\"\\nDataFrame with Salary Rank:\")\n",
        "print(df[['Name', 'Salary', 'Salary_Rank']].head(10))"
      ],
      "metadata": {
        "colab": {
          "base_uri": "https://localhost:8080/"
        },
        "id": "0B7LPemRs4Ck",
        "outputId": "ce734ab2-2310-4af5-bdae-9c32af2dfa41"
      },
      "execution_count": null,
      "outputs": [
        {
          "output_type": "stream",
          "name": "stdout",
          "text": [
            "\n",
            "Sorted DataFrame by Department and Age:\n",
            "     EmployeeID          Name   Age Department    Salary      City\n",
            "198         199  Employee_199  22.0    Finance   90515.0  New York\n",
            "18           19   Employee_19  23.0    Finance   39171.0   Chicago\n",
            "11           12   Employee_12  24.0    Finance   30221.0      None\n",
            "43           44   Employee_44  24.0    Finance   69446.0      None\n",
            "167         168  Employee_168  26.0    Finance   84921.0      None\n",
            "8             9    Employee_9  27.0    Finance   63386.0   Chicago\n",
            "38           39   Employee_39  28.0    Finance   79695.0   Chicago\n",
            "5             6    Employee_6  30.0    Finance       NaN      None\n",
            "96           97   Employee_97  31.0    Finance   43970.0  New York\n",
            "28           29   Employee_29  32.0    Finance  117410.0      None\n",
            "\n",
            "Top 5 Salaries:\n",
            "             Name    Salary\n",
            "181  Employee_182  119016.0\n",
            "58    Employee_59  118555.0\n",
            "73    Employee_74  118184.0\n",
            "14    Employee_15  117900.0\n",
            "180  Employee_181  117670.0\n",
            "\n",
            "Bottom 5 Salaries:\n",
            "             Name   Salary\n",
            "46    Employee_47  30053.0\n",
            "11    Employee_12  30221.0\n",
            "95    Employee_96  30726.0\n",
            "163  Employee_164  30772.0\n",
            "78    Employee_79  33201.0\n",
            "\n",
            "DataFrame with Salary Rank:\n",
            "          Name    Salary  Salary_Rank\n",
            "0   Employee_1   71114.0        113.0\n",
            "1   Employee_2   87199.0         77.0\n",
            "2   Employee_3  109457.0         27.0\n",
            "3   Employee_4   97033.0         53.0\n",
            "4   Employee_5   45157.0        166.0\n",
            "5   Employee_6       NaN          NaN\n",
            "6   Employee_7  105574.0         32.0\n",
            "7   Employee_8       NaN          NaN\n",
            "8   Employee_9   63386.0        129.0\n",
            "9  Employee_10   35817.0        179.0\n"
          ]
        }
      ]
    },
    {
      "cell_type": "code",
      "source": [
        "df['Monthly_Salary'] = df['Salary'] / 12\n",
        "\n",
        "def age_bracket(age):\n",
        "    if age < 30:\n",
        "        return 'Young'\n",
        "    elif 30 <= age < 50:\n",
        "        return 'MidCareer'\n",
        "    else:\n",
        "        return 'Senior'\n",
        "\n",
        "df['Age_Bracket'] = df['Age'].apply(age_bracket)\n",
        "\n",
        "df[['First_Name', 'Last_Name']] = df['Name'].str.split('_', expand=True)\n",
        "print(\"\\nDataFrame with new columns:\")\n",
        "print(df[['Name', 'First_Name', 'Last_Name', 'Monthly_Salary', 'Age_Bracket']].head(10))"
      ],
      "metadata": {
        "colab": {
          "base_uri": "https://localhost:8080/"
        },
        "id": "U6FshA5_tXQo",
        "outputId": "8ccd6880-4c13-4900-b35f-78570ca52d74"
      },
      "execution_count": null,
      "outputs": [
        {
          "output_type": "stream",
          "name": "stdout",
          "text": [
            "\n",
            "DataFrame with new columns:\n",
            "          Name First_Name Last_Name  Monthly_Salary Age_Bracket\n",
            "0   Employee_1   Employee         1     5926.166667       Young\n",
            "1   Employee_2   Employee         2     7266.583333       Young\n",
            "2   Employee_3   Employee         3     9121.416667   MidCareer\n",
            "3   Employee_4   Employee         4     8086.083333   MidCareer\n",
            "4   Employee_5   Employee         5     3763.083333      Senior\n",
            "5   Employee_6   Employee         6             NaN   MidCareer\n",
            "6   Employee_7   Employee         7     8797.833333       Young\n",
            "7   Employee_8   Employee         8             NaN      Senior\n",
            "8   Employee_9   Employee         9     5282.166667       Young\n",
            "9  Employee_10   Employee        10     2984.750000      Senior\n"
          ]
        }
      ]
    },
    {
      "cell_type": "code",
      "source": [
        "grouped_df = df.groupby('Department').agg({'Age': 'mean', 'Salary': 'sum'}).reset_index()\n",
        "grouped_df.columns = ['Department', 'Average_Age', 'Total_Salary']\n",
        "print(\"\\nGrouped DataFrame by Department:\")\n",
        "print(grouped_df)\n",
        "\n",
        "employee_count_by_city = df['City'].value_counts().reset_index()\n",
        "employee_count_by_city.columns = ['City', 'Employee_Count']\n",
        "print(\"\\nEmployee Count by City:\")\n",
        "print(employee_count_by_city)\n",
        "\n",
        "highest_mean_salary_department = df.groupby('Department')['Salary'].mean().idxmax()\n",
        "print(f\"\\nDepartment with the highest mean salary: {highest_mean_salary_department}\")"
      ],
      "metadata": {
        "colab": {
          "base_uri": "https://localhost:8080/"
        },
        "id": "cL7a6FNftiaV",
        "outputId": "bca0071f-7893-4951-9b40-a79cc614427b"
      },
      "execution_count": null,
      "outputs": [
        {
          "output_type": "stream",
          "name": "stdout",
          "text": [
            "\n",
            "Grouped DataFrame by Department:\n",
            "  Department  Average_Age  Total_Salary\n",
            "0    Finance    40.342105     2766273.0\n",
            "1         HR    39.804348     3668554.0\n",
            "2         IT    41.967742     2625763.0\n",
            "3  Marketing    41.515152     2756321.0\n",
            "4      Sales    41.911765     2839584.0\n",
            "\n",
            "Employee Count by City:\n",
            "          City  Employee_Count\n",
            "0      Chicago              56\n",
            "1     New York              51\n",
            "2  Los Angeles              46\n",
            "\n",
            "Department with the highest mean salary: Marketing\n"
          ]
        }
      ]
    },
    {
      "cell_type": "code",
      "source": [
        "dept_info = pd.DataFrame({\n",
        "    'Department': ['HR', 'IT', 'Finance', 'Marketing', 'Sales'],\n",
        "    'Manager': ['Alice', 'Bob', 'Charlie', 'David', 'Eve'],\n",
        "    'Budget': [500000, 700000, 600000, 400000, 300000]\n",
        "})\n",
        "\n",
        "inner_merge = pd.merge(df, dept_info, on='Department', how='inner')\n",
        "left_merge = pd.merge(df, dept_info, on='Department', how='left')\n",
        "right_merge = pd.merge(df, dept_info, on='Department', how='right')\n",
        "outer_merge = pd.merge(df, dept_info, on='Department', how='outer')\n",
        "\n",
        "print(\"\\nInner Merge Result:\")\n",
        "print(inner_merge.head())\n",
        "\n",
        "print(\"\\nLeft Merge Result:\")\n",
        "print(left_merge.head())\n",
        "\n",
        "print(\"\\nRight Merge Result:\")\n",
        "print(right_merge.head())\n",
        "\n",
        "print(\"\\nOuter Merge Result:\")\n",
        "print(outer_merge.head())"
      ],
      "metadata": {
        "colab": {
          "base_uri": "https://localhost:8080/"
        },
        "id": "MZ_QPl09tsVo",
        "outputId": "27787348-66cd-4d58-a8a0-e397238ef39c"
      },
      "execution_count": null,
      "outputs": [
        {
          "output_type": "stream",
          "name": "stdout",
          "text": [
            "\n",
            "Inner Merge Result:\n",
            "   EmployeeID        Name   Age Department    Salary      City  Salary_Rank  \\\n",
            "0           1  Employee_1  29.0  Marketing   71114.0  New York        113.0   \n",
            "1           2  Employee_2  23.0         HR   87199.0   Chicago         77.0   \n",
            "2           3  Employee_3  39.0         HR  109457.0   Chicago         27.0   \n",
            "3           4  Employee_4  37.0         HR   97033.0  New York         53.0   \n",
            "4           5  Employee_5   NaN         IT   45157.0   Chicago        166.0   \n",
            "\n",
            "   Monthly_Salary Age_Bracket First_Name Last_Name Manager  Budget  \n",
            "0     5926.166667       Young   Employee         1   David  400000  \n",
            "1     7266.583333       Young   Employee         2   Alice  500000  \n",
            "2     9121.416667   MidCareer   Employee         3   Alice  500000  \n",
            "3     8086.083333   MidCareer   Employee         4   Alice  500000  \n",
            "4     3763.083333      Senior   Employee         5     Bob  700000  \n",
            "\n",
            "Left Merge Result:\n",
            "   EmployeeID        Name   Age Department    Salary      City  Salary_Rank  \\\n",
            "0           1  Employee_1  29.0  Marketing   71114.0  New York        113.0   \n",
            "1           2  Employee_2  23.0         HR   87199.0   Chicago         77.0   \n",
            "2           3  Employee_3  39.0         HR  109457.0   Chicago         27.0   \n",
            "3           4  Employee_4  37.0         HR   97033.0  New York         53.0   \n",
            "4           5  Employee_5   NaN         IT   45157.0   Chicago        166.0   \n",
            "\n",
            "   Monthly_Salary Age_Bracket First_Name Last_Name Manager  Budget  \n",
            "0     5926.166667       Young   Employee         1   David  400000  \n",
            "1     7266.583333       Young   Employee         2   Alice  500000  \n",
            "2     9121.416667   MidCareer   Employee         3   Alice  500000  \n",
            "3     8086.083333   MidCareer   Employee         4   Alice  500000  \n",
            "4     3763.083333      Senior   Employee         5     Bob  700000  \n",
            "\n",
            "Right Merge Result:\n",
            "   EmployeeID         Name   Age Department    Salary      City  Salary_Rank  \\\n",
            "0           2   Employee_2  23.0         HR   87199.0   Chicago         77.0   \n",
            "1           3   Employee_3  39.0         HR  109457.0   Chicago         27.0   \n",
            "2           4   Employee_4  37.0         HR   97033.0  New York         53.0   \n",
            "3          16  Employee_16  36.0         HR   55825.0   Chicago        147.0   \n",
            "4          21  Employee_21   NaN         HR   73279.0   Chicago        107.0   \n",
            "\n",
            "   Monthly_Salary Age_Bracket First_Name Last_Name Manager  Budget  \n",
            "0     7266.583333       Young   Employee         2   Alice  500000  \n",
            "1     9121.416667   MidCareer   Employee         3   Alice  500000  \n",
            "2     8086.083333   MidCareer   Employee         4   Alice  500000  \n",
            "3     4652.083333   MidCareer   Employee        16   Alice  500000  \n",
            "4     6106.583333      Senior   Employee        21   Alice  500000  \n",
            "\n",
            "Outer Merge Result:\n",
            "   EmployeeID         Name   Age Department    Salary      City  Salary_Rank  \\\n",
            "0           6   Employee_6  30.0    Finance       NaN      None          NaN   \n",
            "1           8   Employee_8  56.0    Finance       NaN   Chicago          NaN   \n",
            "2           9   Employee_9  27.0    Finance   63386.0   Chicago        129.0   \n",
            "3          12  Employee_12  24.0    Finance   30221.0      None        185.0   \n",
            "4          14  Employee_14   NaN    Finance  100575.0  New York         45.0   \n",
            "\n",
            "   Monthly_Salary Age_Bracket First_Name Last_Name  Manager  Budget  \n",
            "0             NaN   MidCareer   Employee         6  Charlie  600000  \n",
            "1             NaN      Senior   Employee         8  Charlie  600000  \n",
            "2     5282.166667       Young   Employee         9  Charlie  600000  \n",
            "3     2518.416667       Young   Employee        12  Charlie  600000  \n",
            "4     8381.250000      Senior   Employee        14  Charlie  600000  \n"
          ]
        }
      ]
    }
  ]
}