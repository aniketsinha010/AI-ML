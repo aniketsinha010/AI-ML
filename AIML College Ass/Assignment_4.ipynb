{
  "nbformat": 4,
  "nbformat_minor": 0,
  "metadata": {
    "colab": {
      "provenance": []
    },
    "kernelspec": {
      "name": "python3",
      "display_name": "Python 3"
    },
    "language_info": {
      "name": "python"
    }
  },
  "cells": [
    {
      "cell_type": "code",
      "execution_count": null,
      "metadata": {
        "colab": {
          "base_uri": "https://localhost:8080/"
        },
        "id": "X53U4bdPtj--",
        "outputId": "4be12c3f-421c-486e-d2c0-31e17c16acfd"
      },
      "outputs": [
        {
          "output_type": "stream",
          "name": "stdout",
          "text": [
            "Matrix:\n",
            " [[49 11 28]\n",
            " [22  9 10]\n",
            " [39 41 45]]\n",
            "Mean: 28.22222222222222\n",
            "Median: 28.0\n",
            "Standard Deviation: 15.016862949348182\n",
            "Transposed Matrix:\n",
            " [[49 22 39]\n",
            " [11  9 41]\n",
            " [28 10 45]]\n",
            "Normalized Matrix:\n",
            " [[1.    0.05  0.475]\n",
            " [0.325 0.    0.025]\n",
            " [0.75  0.8   0.9  ]]\n"
          ]
        }
      ],
      "source": [
        "import numpy as np\n",
        "import matplotlib.pyplot as plt\n",
        "\n",
        "#NUMPY BASICS\n",
        "\n",
        "# Task 1: Create a 3x3 matrix with random integers between 1 and 50\n",
        "matrix = np.random.randint(1, 51, (3, 3))\n",
        "print(\"Matrix:\\n\", matrix)\n",
        "\n",
        "# Mean, Median, and Standard Deviation\n",
        "print(\"Mean:\", np.mean(matrix))\n",
        "print(\"Median:\", np.median(matrix))\n",
        "print(\"Standard Deviation:\", np.std(matrix))\n",
        "\n",
        "# Transpose of the matrix\n",
        "transposed_matrix = matrix.T\n",
        "print(\"Transposed Matrix:\\n\", transposed_matrix)\n",
        "\n",
        "# Normalize the matrix (scale values between 0 and 1)\n",
        "normalized_matrix = (matrix - np.min(matrix)) / (np.max(matrix) - np.min(matrix))\n",
        "print(\"Normalized Matrix:\\n\", normalized_matrix)\n"
      ]
    },
    {
      "cell_type": "code",
      "source": [
        "# Task 2: Create a 1D array with 20 random numbers\n",
        "array_1d = np.random.rand(20)\n",
        "print(\"1D Array:\\n\", array_1d)\n",
        "\n",
        "# Reshape into a 4x5 array\n",
        "reshaped_array = array_1d.reshape(4, 5)\n",
        "print(\"Reshaped 4x5 Array:\\n\", reshaped_array)\n",
        "\n",
        "# Replace elements greater than mean with 1, else 0\n",
        "mean_value = np.mean(reshaped_array)\n",
        "binary_array = np.where(reshaped_array > mean_value, 1, 0)\n",
        "print(\"Binary Array:\\n\", binary_array)\n"
      ],
      "metadata": {
        "colab": {
          "base_uri": "https://localhost:8080/"
        },
        "id": "zeH5dKJnyWIc",
        "outputId": "02306e11-0913-4c98-f2b6-baffbcc47f48"
      },
      "execution_count": null,
      "outputs": [
        {
          "output_type": "stream",
          "name": "stdout",
          "text": [
            "1D Array:\n",
            " [0.17941547 0.29163653 0.70730496 0.13923305 0.54121303 0.21874516\n",
            " 0.33356989 0.0802323  0.02040042 0.02736012 0.75022513 0.00714797\n",
            " 0.96362866 0.13681293 0.728356   0.22775983 0.77495037 0.76652838\n",
            " 0.0680884  0.76862439]\n",
            "Reshaped 4x5 Array:\n",
            " [[0.17941547 0.29163653 0.70730496 0.13923305 0.54121303]\n",
            " [0.21874516 0.33356989 0.0802323  0.02040042 0.02736012]\n",
            " [0.75022513 0.00714797 0.96362866 0.13681293 0.728356  ]\n",
            " [0.22775983 0.77495037 0.76652838 0.0680884  0.76862439]]\n",
            "Binary Array:\n",
            " [[0 0 1 0 1]\n",
            " [0 0 0 0 0]\n",
            " [1 0 1 0 1]\n",
            " [0 1 1 0 1]]\n"
          ]
        }
      ]
    },
    {
      "cell_type": "code",
      "source": [
        "# Task 3: Matrix Multiplication\n",
        "A = np.array([[1, 2, 3], [4, 5, 6]])\n",
        "B = np.array([[7, 8], [9, 10], [11, 12]])\n",
        "\n",
        "result = np.dot(A, B)\n",
        "print(\"Matrix Multiplication Result:\\n\", result)\n"
      ],
      "metadata": {
        "colab": {
          "base_uri": "https://localhost:8080/"
        },
        "id": "FUPDR6GVyciE",
        "outputId": "c97186fa-3260-4d20-9020-95ca80976dac"
      },
      "execution_count": null,
      "outputs": [
        {
          "output_type": "stream",
          "name": "stdout",
          "text": [
            "Matrix Multiplication Result:\n",
            " [[ 58  64]\n",
            " [139 154]]\n"
          ]
        }
      ]
    },
    {
      "cell_type": "code",
      "source": [
        "# Task 4: Generate 1000 random values from a normal distribution (mean=10, std=3)\n",
        "normal_data = np.random.normal(10, 3, 1000)\n",
        "\n",
        "# Plot histogram\n",
        "plt.hist(normal_data, bins=30, edgecolor='black')\n",
        "plt.title(\"Histogram of Normal Distribution\")\n",
        "plt.xlabel(\"Value\")\n",
        "plt.ylabel(\"Frequency\")\n",
        "plt.show()\n"
      ],
      "metadata": {
        "colab": {
          "base_uri": "https://localhost:8080/",
          "height": 472
        },
        "id": "_Rd2J4fEyix0",
        "outputId": "46ee4355-8e15-405b-e5e2-d70eefea09a3"
      },
      "execution_count": null,
      "outputs": [
        {
          "output_type": "display_data",
          "data": {
            "text/plain": [
              "<Figure size 640x480 with 1 Axes>"
            ],
            "image/png": "[encoded data removed]"
          },
          "metadata": {}
        }
      ]
    },
    {
      "cell_type": "markdown",
      "source": [],
      "metadata": {
        "id": "uDZmd9Sctq4a"
      }
    },
    {
      "cell_type": "code",
      "source": [
        "#PANDAS BASICS\n",
        "\n",
        "import pandas as pd\n",
        "\n",
        "# Task 1: Create a Pandas DataFrame\n",
        "names = np.random.choice([\"Alice\", \"Bob\", \"Charlie\", \"David\", \"Emma\"], 10)\n",
        "ages = np.random.randint(18, 61, 10)\n",
        "cities = np.random.choice([\"Mumbai\", \"Delhi\", \"Kolkata\", \"Chennai\"], 10)\n",
        "salaries = np.random.randint(30000, 100001, 10)\n",
        "\n",
        "df = pd.DataFrame({\"Name\": names, \"Age\": ages, \"City\": cities, \"Salary\": salaries})\n",
        "print(\"DataFrame:\\n\", df)\n",
        "\n",
        "# Calculate average age and salary\n",
        "print(\"Average Age:\", df[\"Age\"].mean())\n",
        "print(\"Average Salary:\", df[\"Salary\"].mean())\n",
        "\n",
        "# City with the highest number of entries\n",
        "print(\"City with most entries:\\n\", df[\"City\"].value_counts().idxmax())\n",
        "\n",
        "# Filter employees with salary > 50,000 and age < 30\n",
        "filtered_df = df[(df[\"Salary\"] > 50000) & (df[\"Age\"] < 30)]\n",
        "print(\"Filtered DataFrame:\\n\", filtered_df)\n"
      ],
      "metadata": {
        "colab": {
          "base_uri": "https://localhost:8080/"
        },
        "id": "I2SY-oWly9RJ",
        "outputId": "a998bba7-9fbb-4c2c-891e-3c47f5dbd2a7"
      },
      "execution_count": null,
      "outputs": [
        {
          "output_type": "stream",
          "name": "stdout",
          "text": [
            "DataFrame:\n",
            "       Name  Age    City  Salary\n",
            "0    David   50   Delhi   64905\n",
            "1    Alice   55  Mumbai   45696\n",
            "2  Charlie   46  Mumbai   57557\n",
            "3    Alice   53   Delhi   90042\n",
            "4    David   51  Mumbai   93793\n",
            "5  Charlie   31  Mumbai   37564\n",
            "6    David   25   Delhi   73352\n",
            "7  Charlie   31  Mumbai   36872\n",
            "8      Bob   29   Delhi   42580\n",
            "9  Charlie   36   Delhi   88871\n",
            "Average Age: 40.7\n",
            "Average Salary: 63123.2\n",
            "City with most entries:\n",
            " Delhi\n",
            "Filtered DataFrame:\n",
            "     Name  Age   City  Salary\n",
            "6  David   25  Delhi   73352\n"
          ]
        }
      ]
    },
    {
      "cell_type": "code",
      "source": [
        "# Task 2: Load the Iris dataset\n",
        "from sklearn.datasets import load_iris\n",
        "\n",
        "iris = load_iris()\n",
        "iris_df = pd.DataFrame(iris.data, columns=iris.feature_names)\n",
        "iris_df[\"species\"] = iris.target\n",
        "\n",
        "# Display first 10 and last 10 rows\n",
        "print(\"First 10 rows:\\n\", iris_df.head(10))\n",
        "print(\"Last 10 rows:\\n\", iris_df.tail(10))\n",
        "\n",
        "# Check for missing values\n",
        "print(\"Missing values:\\n\", iris_df.isnull().sum())\n",
        "\n",
        "# Group by species and calculate mean and std for numerical columns\n",
        "print(\"Grouped Mean:\\n\", iris_df.groupby(\"species\").mean())\n",
        "print(\"Grouped Standard Deviation:\\n\", iris_df.groupby(\"species\").std())\n"
      ],
      "metadata": {
        "colab": {
          "base_uri": "https://localhost:8080/"
        },
        "id": "hc8Va64fzJNk",
        "outputId": "50ac8b6e-bf9a-4e92-8ce4-9ee9041c1393"
      },
      "execution_count": null,
      "outputs": [
        {
          "output_type": "stream",
          "name": "stdout",
          "text": [
            "First 10 rows:\n",
            "    sepal length (cm)  sepal width (cm)  petal length (cm)  petal width (cm)  \\\n",
            "0                5.1               3.5                1.4               0.2   \n",
            "1                4.9               3.0                1.4               0.2   \n",
            "2                4.7               3.2                1.3               0.2   \n",
            "3                4.6               3.1                1.5               0.2   \n",
            "4                5.0               3.6                1.4               0.2   \n",
            "5                5.4               3.9                1.7               0.4   \n",
            "6                4.6               3.4                1.4               0.3   \n",
            "7                5.0               3.4                1.5               0.2   \n",
            "8                4.4               2.9                1.4               0.2   \n",
            "9                4.9               3.1                1.5               0.1   \n",
            "\n",
            "   species  \n",
            "0        0  \n",
            "1        0  \n",
            "2        0  \n",
            "3        0  \n",
            "4        0  \n",
            "5        0  \n",
            "6        0  \n",
            "7        0  \n",
            "8        0  \n",
            "9        0  \n",
            "Last 10 rows:\n",
            "      sepal length (cm)  sepal width (cm)  petal length (cm)  petal width (cm)  \\\n",
            "140                6.7               3.1                5.6               2.4   \n",
            "141                6.9               3.1                5.1               2.3   \n",
            "142                5.8               2.7                5.1               1.9   \n",
            "143                6.8               3.2                5.9               2.3   \n",
            "144                6.7               3.3                5.7               2.5   \n",
            "145                6.7               3.0                5.2               2.3   \n",
            "146                6.3               2.5                5.0               1.9   \n",
            "147                6.5               3.0                5.2               2.0   \n",
            "148                6.2               3.4                5.4               2.3   \n",
            "149                5.9               3.0                5.1               1.8   \n",
            "\n",
            "     species  \n",
            "140        2  \n",
            "141        2  \n",
            "142        2  \n",
            "143        2  \n",
            "144        2  \n",
            "145        2  \n",
            "146        2  \n",
            "147        2  \n",
            "148        2  \n",
            "149        2  \n",
            "Missing values:\n",
            " sepal length (cm)    0\n",
            "sepal width (cm)     0\n",
            "petal length (cm)    0\n",
            "petal width (cm)     0\n",
            "species              0\n",
            "dtype: int64\n",
            "Grouped Mean:\n",
            "          sepal length (cm)  sepal width (cm)  petal length (cm)  \\\n",
            "species                                                           \n",
            "0                    5.006             3.428              1.462   \n",
            "1                    5.936             2.770              4.260   \n",
            "2                    6.588             2.974              5.552   \n",
            "\n",
            "         petal width (cm)  \n",
            "species                    \n",
            "0                   0.246  \n",
            "1                   1.326  \n",
            "2                   2.026  \n",
            "Grouped Standard Deviation:\n",
            "          sepal length (cm)  sepal width (cm)  petal length (cm)  \\\n",
            "species                                                           \n",
            "0                 0.352490          0.379064           0.173664   \n",
            "1                 0.516171          0.313798           0.469911   \n",
            "2                 0.635880          0.322497           0.551895   \n",
            "\n",
            "         petal width (cm)  \n",
            "species                    \n",
            "0                0.105386  \n",
            "1                0.197753  \n",
            "2                0.274650  \n"
          ]
        }
      ]
    },
    {
      "cell_type": "code",
      "source": [
        "# Task 3: Import a dataset of choice (Titanic)\n",
        "titanic_df = pd.read_csv(\"https://raw.githubusercontent.com/datasciencedojo/datasets/master/titanic.csv\")\n",
        "\n",
        "# Count unique values in each categorical column\n",
        "print(\"Unique values in categorical columns:\\n\", titanic_df.select_dtypes(include=['object']).nunique())\n",
        "\n",
        "# Plot bar chart for 'Pclass'\n",
        "titanic_df[\"Pclass\"].value_counts().plot(kind=\"bar\", title=\"Passenger Class Distribution\")\n",
        "plt.xlabel(\"Class\")\n",
        "plt.ylabel(\"Count\")\n",
        "plt.show()\n",
        "\n",
        "# Create a new column Age_Group based on Age\n",
        "def age_group(age):\n",
        "    if age < 18:\n",
        "        return \"Young\"\n",
        "    elif 18 <= age < 50:\n",
        "        return \"Middle-Aged\"\n",
        "    else:\n",
        "        return \"Old\"\n",
        "\n",
        "titanic_df[\"Age_Group\"] = titanic_df[\"Age\"].apply(lambda x: age_group(x) if pd.notnull(x) else \"Unknown\")\n",
        "print(\"Updated DataFrame with Age_Group:\\n\", titanic_df[[\"Age\", \"Age_Group\"]].head(10))"
      ],
      "metadata": {
        "colab": {
          "base_uri": "https://localhost:8080/",
          "height": 797
        },
        "id": "QGEwgrHqzRm0",
        "outputId": "d868aacd-2f78-4fef-c166-edcd3a000922"
      },
      "execution_count": null,
      "outputs": [
        {
          "output_type": "stream",
          "name": "stdout",
          "text": [
            "Unique values in categorical columns:\n",
            " Name        891\n",
            "Sex           2\n",
            "Ticket      681\n",
            "Cabin       147\n",
            "Embarked      3\n",
            "dtype: int64\n"
          ]
        },
        {
          "output_type": "display_data",
          "data": {
            "text/plain": [
              "<Figure size 640x480 with 1 Axes>"
            ],
            "image/png": "[encoded data removed]"
          },
          "metadata": {}
        },
        {
          "output_type": "stream",
          "name": "stdout",
          "text": [
            "Updated DataFrame with Age_Group:\n",
            "     Age    Age_Group\n",
            "0  22.0  Middle-Aged\n",
            "1  38.0  Middle-Aged\n",
            "2  26.0  Middle-Aged\n",
            "3  35.0  Middle-Aged\n",
            "4  35.0  Middle-Aged\n",
            "5   NaN      Unknown\n",
            "6  54.0          Old\n",
            "7   2.0        Young\n",
            "8  27.0  Middle-Aged\n",
            "9  14.0        Young\n"
          ]
        }
      ]
    },
    {
      "cell_type": "code",
      "source": [],
      "metadata": {
        "id": "WCsIU4vizaoK"
      },
      "execution_count": null,
      "outputs": []
    }
  ]
}