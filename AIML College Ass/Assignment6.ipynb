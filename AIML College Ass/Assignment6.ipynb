{
  "nbformat": 4,
  "nbformat_minor": 0,
  "metadata": {
    "colab": {
      "provenance": []
    },
    "kernelspec": {
      "name": "python3",
      "display_name": "Python 3"
    },
    "language_info": {
      "name": "python"
    }
  },
  "cells": [
    {
      "cell_type": "markdown",
      "source": [
        "# **Assignment 6.1: K-Nearest Neighbors (KNN) on the Iris Dataset**"
      ],
      "metadata": {
        "id": "Ji6Lshd6Ef8z"
      }
    },
    {
      "cell_type": "code",
      "execution_count": null,
      "metadata": {
        "colab": {
          "base_uri": "https://localhost:8080/"
        },
        "id": "mxyLDzO70PDd",
        "outputId": "2685c976-5417-43f8-ec31-40cc52697bf0"
      },
      "outputs": [
        {
          "output_type": "stream",
          "name": "stdout",
          "text": [
            "Accuracy: 0.9333333333333333\n",
            "predicted labels: [0 0 1 2 0 2 1 1 2 2 1 1 0 2 2 0 2 0 1 1 1 2 2 0 1 1 2 2 1 0 1 1 1 0 1 0 1\n",
            " 0 2 0 0 2 0 2 0]\n",
            "[[15  0  0]\n",
            " [ 0 14  1]\n",
            " [ 0  2 13]]\n",
            "              precision    recall  f1-score   support\n",
            "\n",
            "           0       1.00      1.00      1.00        15\n",
            "           1       0.88      0.93      0.90        15\n",
            "           2       0.93      0.87      0.90        15\n",
            "\n",
            "    accuracy                           0.93        45\n",
            "   macro avg       0.93      0.93      0.93        45\n",
            "weighted avg       0.93      0.93      0.93        45\n",
            "\n",
            "Accuracy: 93.33%\n"
          ]
        }
      ],
      "source": [
        "from sklearn.datasets import load_iris\n",
        "from sklearn.model_selection import train_test_split\n",
        "from sklearn.neighbors import KNeighborsClassifier\n",
        "from sklearn.metrics import classification_report, confusion_matrix, accuracy_score\n",
        "iris = load_iris()\n",
        "X = iris.data\n",
        "y = iris.target\n",
        "X_train, X_test, y_train, y_test = train_test_split(X, y, test_size=0.3)\n",
        "knn = KNeighborsClassifier(n_neighbors=3)\n",
        "knn.fit(X_train, y_train)\n",
        "y_pred = knn.predict(X_test)\n",
        "accuracy = accuracy_score(y_test, y_pred)\n",
        "print (f\"Accuracy: {accuracy}\")\n",
        "print(\"predicted labels:\", y_pred)\n",
        "print (confusion_matrix(y_test, y_pred))\n",
        "print (classification_report(y_test, y_pred))\n",
        "print(f\"Accuracy: {accuracy * 100:.2f}%\")"
      ]
    },
    {
      "cell_type": "markdown",
      "source": [
        "# **Assignment 6.2: Naïve Bayes Classification on the Iris Dataset**"
      ],
      "metadata": {
        "id": "l7clPYrzEmPb"
      }
    },
    {
      "cell_type": "code",
      "source": [
        "from sklearn.datasets import load_iris\n",
        "from sklearn.model_selection import train_test_split\n",
        "from sklearn.naive_bayes import GaussianNB\n",
        "from sklearn.metrics import accuracy_score\n",
        "iris = load_iris()\n",
        "X = iris.data\n",
        "y = iris.target\n",
        "\n",
        "X_train, X_test, y_train, y_test = train_test_split(X, y, test_size=0.3)\n",
        "nb = GaussianNB()\n",
        "nb.fit(X_train, y_train)\n",
        "y_pred = nb.predict(X_test)\n",
        "accuracy = accuracy_score(y_test, y_pred)\n",
        "print (f\"Accuracy: {accuracy}\")\n",
        "print(\"predicted labels:\", y_pred)\n",
        "print (confusion_matrix(y_test, y_pred))\n",
        "print (classification_report(y_test, y_pred))\n",
        "print(f\"Accuracy: {accuracy * 100:.2f}%\")"
      ],
      "metadata": {
        "colab": {
          "base_uri": "https://localhost:8080/"
        },
        "id": "fXX1eizC3l50",
        "outputId": "c79473cc-950a-468a-b41f-77390a95f9a9"
      },
      "execution_count": null,
      "outputs": [
        {
          "output_type": "stream",
          "name": "stdout",
          "text": [
            "Accuracy: 0.9111111111111111\n",
            "predicted labels: [2 2 1 1 0 2 2 0 0 2 1 2 0 0 1 1 2 1 0 2 2 0 1 0 0 2 1 1 2 1 2 0 0 1 0 1 1\n",
            " 1 1 1 2 1 0 1 1]\n",
            "[[13  0  0]\n",
            " [ 0 15  0]\n",
            " [ 0  4 13]]\n",
            "              precision    recall  f1-score   support\n",
            "\n",
            "           0       1.00      1.00      1.00        13\n",
            "           1       0.79      1.00      0.88        15\n",
            "           2       1.00      0.76      0.87        17\n",
            "\n",
            "    accuracy                           0.91        45\n",
            "   macro avg       0.93      0.92      0.92        45\n",
            "weighted avg       0.93      0.91      0.91        45\n",
            "\n",
            "Accuracy: 91.11%\n"
          ]
        }
      ]
    },
    {
      "cell_type": "markdown",
      "source": [
        "# **Assignment 6.3: Implement Breadth Fast Search (BFS)**"
      ],
      "metadata": {
        "id": "BiP3zI-wspG4"
      }
    },
    {
      "cell_type": "code",
      "source": [
        "import networkx as nx\n",
        "import matplotlib.pyplot as plt\n",
        "from collections import defaultdict\n",
        "\n",
        "class Graph:\n",
        "    def __init__(self): # Changed _init_ to __init__\n",
        "        self.graph = defaultdict(list)\n",
        "\n",
        "    def add_edge(self, u, v):\n",
        "        self.graph[u].append(v)\n",
        "\n",
        "    def dfs_util(self, v, visited):\n",
        "        visited.add(v)\n",
        "        print(v, end=\" \")\n",
        "\n",
        "        for neighbour in self.graph[v]:\n",
        "            if neighbour not in visited:\n",
        "                self.dfs_util(neighbour, visited)\n",
        "\n",
        "    def dfs(self, v):\n",
        "        visited = set()\n",
        "        self.dfs_util(v, visited)\n",
        "        print()\n",
        "\n",
        "    def bfs(self, s):\n",
        "        visited = set()\n",
        "        queue = [s]\n",
        "        visited.add(s)\n",
        "\n",
        "        while queue:\n",
        "            v = queue.pop(0)\n",
        "            print(v, end=\" \")\n",
        "\n",
        "            for neighbour in self.graph[v]:\n",
        "                if neighbour not in visited:\n",
        "                    queue.append(neighbour)\n",
        "                    visited.add(neighbour)\n",
        "        print()\n",
        "\n",
        "    def print_graph(self):\n",
        "        print(\"Graph Structure:\")\n",
        "        for node, neighbors in self.graph.items():\n",
        "            print(f\"Node {node}: {neighbors}\")\n",
        "\n",
        "    def visualize_graph(self):\n",
        "        G = nx.DiGraph()  # Create a directed graph object\n",
        "        for node, neighbors in self.graph.items():\n",
        "            for neighbor in neighbors:\n",
        "                G.add_edge(node, neighbor)  # Add edges to the graph\n",
        "\n",
        "        # Draw the graph using matplotlib\n",
        "        pos = nx.spring_layout(G)  # Define node positions\n",
        "        nx.draw(G, pos, with_labels=True, node_size=1500, node_color=\"skyblue\", font_size=15, font_color=\"black\", arrowsize=20)\n",
        "        plt.title(\"Graph Visualization\")\n",
        "        plt.show()\n",
        "\n",
        "g = Graph()\n",
        "g.add_edge(0, 1)\n",
        "g.add_edge(0, 2)\n",
        "g.add_edge(1, 3)\n",
        "g.add_edge(3, 0)\n",
        "g.add_edge(2, 0)\n",
        "g.add_edge(3, 2)\n",
        "\n",
        "g.print_graph()\n",
        "\n",
        "print(\"Following is Depth First Traversal (starting from vertex 2)\")\n",
        "g.dfs(2)\n",
        "\n",
        "print(\"Following is Breadth First Traversal (starting from vertex 2)\")\n",
        "g.bfs(2)\n",
        "\n",
        "g.visualize_graph() # Call the visualize_graph method to display the graph"
      ],
      "metadata": {
        "colab": {
          "base_uri": "https://localhost:8080/",
          "height": 695
        },
        "id": "A8wFzZPmQNMZ",
        "outputId": "3b886377-5e3d-4682-de4c-99821f556483"
      },
      "execution_count": null,
      "outputs": [
        {
          "output_type": "stream",
          "name": "stdout",
          "text": [
            "Graph Structure:\n",
            "Node 0: [1, 2]\n",
            "Node 1: [3]\n",
            "Node 3: [0, 2]\n",
            "Node 2: [0]\n",
            "Following is Depth First Traversal (starting from vertex 2)\n",
            "2 0 1 3 \n",
            "Following is Breadth First Traversal (starting from vertex 2)\n",
            "2 0 1 3 \n"
          ]
        },
        {
          "output_type": "display_data",
          "data": {
            "text/plain": [
              "<Figure size 640x480 with 1 Axes>"
            ],
            "image/png": "[encoded data removed]"
          },
          "metadata": {}
        }
      ]
    }
  ]
}