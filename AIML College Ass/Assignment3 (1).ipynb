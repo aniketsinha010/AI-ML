{
  "nbformat": 4,
  "nbformat_minor": 0,
  "metadata": {
    "colab": {
      "provenance": []
    },
    "kernelspec": {
      "name": "python3",
      "display_name": "Python 3"
    },
    "language_info": {
      "name": "python"
    }
  },
  "cells": [
    {
      "cell_type": "code",
      "execution_count": null,
      "metadata": {
        "colab": {
          "base_uri": "https://localhost:8080/"
        },
        "id": "x2653gmju2VV",
        "outputId": "da4b4897-3ce8-424b-8906-7667ed1ba755"
      },
      "outputs": [
        {
          "output_type": "stream",
          "name": "stdout",
          "text": [
            "Rows where Marks > 80:\n",
            "    Name  Age       City  Marks\n",
            "0  Alice   24   New York     85\n",
            "1    Bob   27  San Diego     90\n",
            "\n",
            "City column as a series:\n",
            "0     New York\n",
            "1    San Diego\n",
            "2      Seattle\n",
            "Name: City, dtype: object\n"
          ]
        }
      ],
      "source": [
        "import pandas as pd\n",
        "\n",
        "data = {\n",
        "    'Name': ['Alice', 'Bob', 'Charlie'],\n",
        "    'Age': [24, 27, 22],\n",
        "    'City': ['New York', 'San Diego', 'Seattle'],\n",
        "    'Marks': [85, 90, 78]\n",
        "}\n",
        "\n",
        "df = pd.DataFrame(data)\n",
        "\n",
        "high_marks = df[df['Marks'] > 80]\n",
        "print(\"Rows where Marks > 80:\")\n",
        "print(high_marks)\n",
        "\n",
        "city_series = df['City']\n",
        "print(\"\\nCity column as a series:\")\n",
        "print(city_series)\n",
        "\n",
        "df.to_csv('example.csv', index=False)"
      ]
    },
    {
      "cell_type": "code",
      "source": [
        "df_csv = pd.read_csv('example.csv')\n",
        "\n",
        "print(\"\\nFirst 5 rows of the CSV file:\")\n",
        "print(df_csv.head())\n",
        "\n",
        "print(\"\\nSummary statistics of the DataFrame:\")\n",
        "print(df_csv.describe())\n",
        "\n",
        "missing_values = df_csv.isna().sum()\n",
        "print(\"\\nMissing values in each column:\")\n",
        "print(missing_values)"
      ],
      "metadata": {
        "colab": {
          "base_uri": "https://localhost:8080/"
        },
        "id": "Bh7VltACvMW1",
        "outputId": "c3e14059-3ea2-481a-d6a3-7cb8b61d0b56"
      },
      "execution_count": null,
      "outputs": [
        {
          "output_type": "stream",
          "name": "stdout",
          "text": [
            "\n",
            "First 5 rows of the CSV file:\n",
            "      Name  Age       City  Marks\n",
            "0    Alice   24   New York     85\n",
            "1      Bob   27  San Diego     90\n",
            "2  Charlie   22    Seattle     78\n",
            "\n",
            "Summary statistics of the DataFrame:\n",
            "             Age      Marks\n",
            "count   3.000000   3.000000\n",
            "mean   24.333333  84.333333\n",
            "std     2.516611   6.027714\n",
            "min    22.000000  78.000000\n",
            "25%    23.000000  81.500000\n",
            "50%    24.000000  85.000000\n",
            "75%    25.500000  87.500000\n",
            "max    27.000000  90.000000\n",
            "\n",
            "Missing values in each column:\n",
            "Name     0\n",
            "Age      0\n",
            "City     0\n",
            "Marks    0\n",
            "dtype: int64\n"
          ]
        }
      ]
    },
    {
      "cell_type": "code",
      "source": [
        "data_cleaning = {\n",
        "    'ID': [101, 102, 103, 104],\n",
        "    'Name': ['John', 'Emily', 'Sarah', 'Michael'],\n",
        "    'Age': [25, None, 30, None],\n",
        "    'Salary': [50000, 60000, None, None]\n",
        "}\n",
        "\n",
        "df_clean = pd.DataFrame(data_cleaning)\n",
        "\n",
        "average_age = df_clean['Age'].mean()\n",
        "df_clean['Age'].fillna(average_age, inplace=True)\n",
        "\n",
        "df_clean['Salary'].fillna(0, inplace=True)\n",
        "\n",
        "df_clean.dropna(how='all', inplace=True)\n",
        "\n",
        "print(\"\\nCleaned DataFrame:\")\n",
        "print(df_clean)"
      ],
      "metadata": {
        "colab": {
          "base_uri": "https://localhost:8080/"
        },
        "id": "faPwjzbEvYZ0",
        "outputId": "a5968dbf-189e-4ba0-b6c7-9ca572e4040a"
      },
      "execution_count": null,
      "outputs": [
        {
          "output_type": "stream",
          "name": "stdout",
          "text": [
            "\n",
            "Cleaned DataFrame:\n",
            "    ID     Name   Age   Salary\n",
            "0  101     John  25.0  50000.0\n",
            "1  102    Emily  27.5  60000.0\n",
            "2  103    Sarah  30.0      0.0\n",
            "3  104  Michael  27.5      0.0\n"
          ]
        },
        {
          "output_type": "stream",
          "name": "stderr",
          "text": [
            "<ipython-input-7-ae2cad326826>:11: FutureWarning: A value is trying to be set on a copy of a DataFrame or Series through chained assignment using an inplace method.\n",
            "The behavior will change in pandas 3.0. This inplace method will never work because the intermediate object on which we are setting values always behaves as a copy.\n",
            "\n",
            "For example, when doing 'df[col].method(value, inplace=True)', try using 'df.method({col: value}, inplace=True)' or df[col] = df[col].method(value) instead, to perform the operation inplace on the original object.\n",
            "\n",
            "\n",
            "  df_clean['Age'].fillna(average_age, inplace=True)\n",
            "<ipython-input-7-ae2cad326826>:13: FutureWarning: A value is trying to be set on a copy of a DataFrame or Series through chained assignment using an inplace method.\n",
            "The behavior will change in pandas 3.0. This inplace method will never work because the intermediate object on which we are setting values always behaves as a copy.\n",
            "\n",
            "For example, when doing 'df[col].method(value, inplace=True)', try using 'df.method({col: value}, inplace=True)' or df[col] = df[col].method(value) instead, to perform the operation inplace on the original object.\n",
            "\n",
            "\n",
            "  df_clean['Salary'].fillna(0, inplace=True)\n"
          ]
        }
      ]
    },
    {
      "cell_type": "code",
      "source": [
        "data_grouping = {\n",
        "    'Department': ['HR', 'IT', 'HR', 'IT', 'HR'],\n",
        "    'Employee': ['John', 'Alice', 'Sarah', 'Bob', 'Emily'],\n",
        "    'Salary': [50000, 80000, 55000, 70000, 60000]\n",
        "}\n",
        "\n",
        "df_group = pd.DataFrame(data_grouping)\n",
        "\n",
        "total_salary = df_group.groupby('Department')['Salary'].sum().reset_index()\n",
        "total_salary.columns = ['Department', 'Total_Salary']\n",
        "print(\"\\nTotal salary per department:\")\n",
        "print(total_salary)\n",
        "\n",
        "average_salary = df_group.groupby('Department')['Salary'].mean().reset_index()\n",
        "average_salary.columns = ['Department', 'Average_Salary']\n",
        "print(\"\\nAverage salary per department:\")\n",
        "print(average_salary)"
      ],
      "metadata": {
        "colab": {
          "base_uri": "https://localhost:8080/"
        },
        "id": "4RV_degRwkEa",
        "outputId": "c560af02-5b65-4eb8-ee9b-2cb4389a0329"
      },
      "execution_count": null,
      "outputs": [
        {
          "output_type": "stream",
          "name": "stdout",
          "text": [
            "\n",
            "Total salary per department:\n",
            "  Department  Total_Salary\n",
            "0         HR        165000\n",
            "1         IT        150000\n",
            "\n",
            "Average salary per department:\n",
            "  Department  Average_Salary\n",
            "0         HR         55000.0\n",
            "1         IT         75000.0\n"
          ]
        }
      ]
    }
  ]
}