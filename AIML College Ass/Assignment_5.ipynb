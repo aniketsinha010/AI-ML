{
  "nbformat": 4,
  "nbformat_minor": 0,
  "metadata": {
    "colab": {
      "provenance": []
    },
    "kernelspec": {
      "name": "python3",
      "display_name": "Python 3"
    },
    "language_info": {
      "name": "python"
    }
  },
  "cells": [
    {
      "cell_type": "code",
      "execution_count": null,
      "metadata": {
        "colab": {
          "base_uri": "https://localhost:8080/"
        },
        "id": "Em-E6CL_S6U8",
        "outputId": "dba0d570-029e-42a8-de3e-a7f6b4916ce9"
      },
      "outputs": [
        {
          "output_type": "stream",
          "name": "stdout",
          "text": [
            "First 3 Rows of DataFrame:\n",
            "    ID     Name  Age  Gender  Salary Department  Joining_Year\n",
            "0   1    Alice   25  Female   50000         HR          2018\n",
            "1   2      Bob   30    Male   60000         IT          2016\n",
            "2   3  Charlie   35    Male   55000    Finance          2015\n"
          ]
        }
      ],
      "source": [
        "import pandas as pd\n",
        "import numpy as np\n",
        "\n",
        "# Sample dataset\n",
        "data = {\n",
        "    \"ID\": [1, 2, 3, 4, 5],\n",
        "    \"Name\": [\"Alice\", \"Bob\", \"Charlie\", \"Diana\", \"Eva\"],\n",
        "    \"Age\": [25, 30, 35, 28, 45],\n",
        "    \"Gender\": [\"Female\", \"Male\", \"Male\", \"Female\", \"Female\"],\n",
        "    \"Salary\": [50000, 60000, 55000, 62000, 70000],\n",
        "    \"Department\": [\"HR\", \"IT\", \"Finance\", \"IT\", \"HR\"],\n",
        "    \"Joining_Year\": [2018, 2016, 2015, 2019, 2010]\n",
        "}\n",
        "\n",
        "df = pd.DataFrame(data)\n",
        "print(\"First 3 Rows of DataFrame:\\n\", df.head(3))\n"
      ]
    },
    {
      "cell_type": "code",
      "source": [
        "print(\"Missing Values:\\n\", df.isnull().sum())\n"
      ],
      "metadata": {
        "colab": {
          "base_uri": "https://localhost:8080/"
        },
        "id": "zRA50ca8S8a-",
        "outputId": "188099e5-2afb-46cd-df79-a2f1b7d13661"
      },
      "execution_count": null,
      "outputs": [
        {
          "output_type": "stream",
          "name": "stdout",
          "text": [
            "Missing Values:\n",
            " ID              0\n",
            "Name            0\n",
            "Age             0\n",
            "Gender          0\n",
            "Salary          0\n",
            "Department      0\n",
            "Joining_Year    0\n",
            "dtype: int64\n"
          ]
        }
      ]
    },
    {
      "cell_type": "code",
      "source": [
        "print(\"Average Age by Department:\\n\", df.groupby(\"Department\")[\"Age\"].mean())\n"
      ],
      "metadata": {
        "id": "T96JlOmOTuja",
        "colab": {
          "base_uri": "https://localhost:8080/"
        },
        "outputId": "93e0ddd2-c57a-4198-d06a-3de3fca52d87"
      },
      "execution_count": null,
      "outputs": [
        {
          "output_type": "stream",
          "name": "stdout",
          "text": [
            "Average Age by Department:\n",
            " Department\n",
            "Finance    35.0\n",
            "HR         35.0\n",
            "IT         29.0\n",
            "Name: Age, dtype: float64\n"
          ]
        }
      ]
    },
    {
      "cell_type": "code",
      "source": [
        "print(\"Employees Joined Before 2015:\\n\", df[df[\"Joining_Year\"] < 2015].shape[0])\n"
      ],
      "metadata": {
        "colab": {
          "base_uri": "https://localhost:8080/"
        },
        "id": "Nv9FSTT_T657",
        "outputId": "31dbe9dd-0b43-4c5b-d05d-cf5ade16b15e"
      },
      "execution_count": null,
      "outputs": [
        {
          "output_type": "stream",
          "name": "stdout",
          "text": [
            "Employees Joined Before 2015:\n",
            " 1\n"
          ]
        }
      ]
    },
    {
      "cell_type": "code",
      "source": [
        "df[\"Experience\"] = 2025 - df[\"Joining_Year\"]\n",
        "print(\"DataFrame with Experience:\\n\", df)\n"
      ],
      "metadata": {
        "colab": {
          "base_uri": "https://localhost:8080/"
        },
        "id": "4imUQE8XT9cI",
        "outputId": "6f146eac-6373-4861-f0d0-d85507f22182"
      },
      "execution_count": null,
      "outputs": [
        {
          "output_type": "stream",
          "name": "stdout",
          "text": [
            "DataFrame with Experience:\n",
            "    ID     Name  Age  Gender  Salary Department  Joining_Year  Experience\n",
            "0   1    Alice   25  Female   50000         HR          2018           7\n",
            "1   2      Bob   30    Male   60000         IT          2016           9\n",
            "2   3  Charlie   35    Male   55000    Finance          2015          10\n",
            "3   4    Diana   28  Female   62000         IT          2019           6\n",
            "4   5      Eva   45  Female   70000         HR          2010          15\n"
          ]
        }
      ]
    },
    {
      "cell_type": "code",
      "source": [
        "high_salary_df = df[df[\"Salary\"] > 55000]\n",
        "print(\"Employees with Salary > 55,000:\\n\", high_salary_df)\n"
      ],
      "metadata": {
        "colab": {
          "base_uri": "https://localhost:8080/"
        },
        "id": "jMzQV1opUArw",
        "outputId": "a357a80a-4d9d-4e0e-f85b-2d2c163b2338"
      },
      "execution_count": null,
      "outputs": [
        {
          "output_type": "stream",
          "name": "stdout",
          "text": [
            "Employees with Salary > 55,000:\n",
            "    ID   Name  Age  Gender  Salary Department  Joining_Year  Experience\n",
            "1   2    Bob   30    Male   60000         IT          2016           9\n",
            "3   4  Diana   28  Female   62000         IT          2019           6\n",
            "4   5    Eva   45  Female   70000         HR          2010          15\n"
          ]
        }
      ]
    },
    {
      "cell_type": "code",
      "source": [
        "print(\"Gender Count:\\n\", df[\"Gender\"].value_counts())\n"
      ],
      "metadata": {
        "colab": {
          "base_uri": "https://localhost:8080/"
        },
        "id": "qxbwt52kUDHk",
        "outputId": "0111a258-4b25-4148-c9e7-38d118d012ec"
      },
      "execution_count": null,
      "outputs": [
        {
          "output_type": "stream",
          "name": "stdout",
          "text": [
            "Gender Count:\n",
            " Gender\n",
            "Female    3\n",
            "Male      2\n",
            "Name: count, dtype: int64\n"
          ]
        }
      ]
    },
    {
      "cell_type": "code",
      "source": [
        "highest_paid = df.loc[df[\"Salary\"].idxmax()]\n",
        "print(\"Highest Paid Employee:\\n\", highest_paid)\n"
      ],
      "metadata": {
        "colab": {
          "base_uri": "https://localhost:8080/"
        },
        "id": "anTs42ClUGKr",
        "outputId": "30c18658-3902-4079-f0b3-4899e38923ed"
      },
      "execution_count": null,
      "outputs": [
        {
          "output_type": "stream",
          "name": "stdout",
          "text": [
            "Highest Paid Employee:\n",
            " ID                   5\n",
            "Name               Eva\n",
            "Age                 45\n",
            "Gender          Female\n",
            "Salary           70000\n",
            "Department          HR\n",
            "Joining_Year      2010\n",
            "Experience          15\n",
            "Name: 4, dtype: object\n"
          ]
        }
      ]
    },
    {
      "cell_type": "code",
      "source": [
        "df_sorted = df.sort_values(by=\"Age\", ascending=False)\n",
        "print(\"Sorted DataFrame by Age:\\n\", df_sorted)\n"
      ],
      "metadata": {
        "colab": {
          "base_uri": "https://localhost:8080/"
        },
        "id": "FWAKE7TyULmy",
        "outputId": "ceecc4a9-a9bf-4579-e983-f0f9e7bf3158"
      },
      "execution_count": null,
      "outputs": [
        {
          "output_type": "stream",
          "name": "stdout",
          "text": [
            "Sorted DataFrame by Age:\n",
            "    ID     Name  Age  Gender  Salary Department  Joining_Year  Experience\n",
            "4   5      Eva   45  Female   70000         HR          2010          15\n",
            "2   3  Charlie   35    Male   55000    Finance          2015          10\n",
            "1   2      Bob   30    Male   60000         IT          2016           9\n",
            "3   4    Diana   28  Female   62000         IT          2019           6\n",
            "0   1    Alice   25  Female   50000         HR          2018           7\n"
          ]
        }
      ]
    },
    {
      "cell_type": "code",
      "source": [
        "summary_table = df.groupby(\"Department\").agg({\"Salary\": \"mean\", \"Age\": \"mean\"})\n",
        "print(\"Summary Table:\\n\", summary_table)\n"
      ],
      "metadata": {
        "colab": {
          "base_uri": "https://localhost:8080/"
        },
        "id": "5PUZNbKAUQoy",
        "outputId": "7ff78868-3420-4ee2-8930-1359bcddb408"
      },
      "execution_count": null,
      "outputs": [
        {
          "output_type": "stream",
          "name": "stdout",
          "text": [
            "Summary Table:\n",
            "              Salary   Age\n",
            "Department               \n",
            "Finance     55000.0  35.0\n",
            "HR          60000.0  35.0\n",
            "IT          61000.0  29.0\n"
          ]
        }
      ]
    },
    {
      "cell_type": "code",
      "source": [
        "highest_salary_dept = summary_table[\"Salary\"].idxmax()\n",
        "print(\"Department with Highest Average Salary:\", highest_salary_dept)\n"
      ],
      "metadata": {
        "colab": {
          "base_uri": "https://localhost:8080/"
        },
        "id": "457MdLSQUTwd",
        "outputId": "cfc3da0f-b855-409a-92c2-83d938fbe071"
      },
      "execution_count": null,
      "outputs": [
        {
          "output_type": "stream",
          "name": "stdout",
          "text": [
            "Department with Highest Average Salary: IT\n"
          ]
        }
      ]
    },
    {
      "cell_type": "code",
      "source": [
        "avg_salary_by_gender = df.groupby(\"Gender\")[\"Salary\"].mean()\n",
        "salary_diff = avg_salary_by_gender.diff().iloc[-1]\n",
        "print(\"Salary Difference Between Genders:\\n\", salary_diff)\n"
      ],
      "metadata": {
        "colab": {
          "base_uri": "https://localhost:8080/"
        },
        "id": "jBbg7rg7UigV",
        "outputId": "82ee1df4-25d0-4d04-b813-cf760154e154"
      },
      "execution_count": null,
      "outputs": [
        {
          "output_type": "stream",
          "name": "stdout",
          "text": [
            "Salary Difference Between Genders:\n",
            " -3166.6666666666642\n"
          ]
        }
      ]
    },
    {
      "cell_type": "code",
      "source": [
        "dept_percentage = df[\"Department\"].value_counts(normalize=True) * 100\n",
        "print(\"Percentage of Employees in Each Department:\\n\", dept_percentage)\n"
      ],
      "metadata": {
        "colab": {
          "base_uri": "https://localhost:8080/"
        },
        "id": "Q03rQfnSUlyd",
        "outputId": "24e092d3-c6df-4bbb-c3b1-f95ae0b4e292"
      },
      "execution_count": null,
      "outputs": [
        {
          "output_type": "stream",
          "name": "stdout",
          "text": [
            "Percentage of Employees in Each Department:\n",
            " Department\n",
            "HR         40.0\n",
            "IT         40.0\n",
            "Finance    20.0\n",
            "Name: proportion, dtype: float64\n"
          ]
        }
      ]
    },
    {
      "cell_type": "code",
      "source": [
        "def salary_category(salary):\n",
        "    if salary < 55000:\n",
        "        return \"Low\"\n",
        "    elif 55000 <= salary <= 65000:\n",
        "        return \"Medium\"\n",
        "    else:\n",
        "        return \"High\"\n",
        "\n",
        "df[\"Salary_Category\"] = df[\"Salary\"].apply(salary_category)\n",
        "print(\"DataFrame with Salary Categories:\\n\", df)\n"
      ],
      "metadata": {
        "colab": {
          "base_uri": "https://localhost:8080/"
        },
        "id": "INSQM1pMUvX3",
        "outputId": "2ff5ca01-eb6f-42c9-97e3-a618166cdc81"
      },
      "execution_count": null,
      "outputs": [
        {
          "output_type": "stream",
          "name": "stdout",
          "text": [
            "DataFrame with Salary Categories:\n",
            "    ID     Name  Age  Gender  Salary Department  Joining_Year  Experience  \\\n",
            "0   1    Alice   25  Female   50000         HR          2018           7   \n",
            "1   2      Bob   30    Male   60000         IT          2016           9   \n",
            "2   3  Charlie   35    Male   55000    Finance          2015          10   \n",
            "3   4    Diana   28  Female   62000         IT          2019           6   \n",
            "4   5      Eva   45  Female   70000         HR          2010          15   \n",
            "\n",
            "  Salary_Category  \n",
            "0             Low  \n",
            "1          Medium  \n",
            "2          Medium  \n",
            "3          Medium  \n",
            "4            High  \n"
          ]
        }
      ]
    },
    {
      "cell_type": "code",
      "source": [
        "youngest_employee = df.loc[df[\"Age\"].idxmin(), [\"Name\", \"Department\", \"Salary\"]]\n",
        "print(\"Youngest Employee:\\n\", youngest_employee)\n"
      ],
      "metadata": {
        "colab": {
          "base_uri": "https://localhost:8080/"
        },
        "id": "-o2an2QKU2KH",
        "outputId": "ee1c367d-2c7b-48b8-a12b-a129b222a041"
      },
      "execution_count": null,
      "outputs": [
        {
          "output_type": "stream",
          "name": "stdout",
          "text": [
            "Youngest Employee:\n",
            " Name          Alice\n",
            "Department       HR\n",
            "Salary        50000\n",
            "Name: 0, dtype: object\n"
          ]
        }
      ]
    },
    {
      "cell_type": "code",
      "source": [
        "total_experience = df.groupby(\"Department\")[\"Experience\"].sum()\n",
        "print(\"Total Years of Experience in Each Department:\\n\", total_experience)\n"
      ],
      "metadata": {
        "colab": {
          "base_uri": "https://localhost:8080/"
        },
        "id": "4SuJsQ8zVMqc",
        "outputId": "c3ac11f2-6fc1-4e20-b993-80f35ca44a62"
      },
      "execution_count": null,
      "outputs": [
        {
          "output_type": "stream",
          "name": "stdout",
          "text": [
            "Total Years of Experience in Each Department:\n",
            " Department\n",
            "Finance    10\n",
            "HR         22\n",
            "IT         15\n",
            "Name: Experience, dtype: int64\n"
          ]
        }
      ]
    },
    {
      "cell_type": "code",
      "source": [
        "median_salary = df[df[\"Joining_Year\"] > 2015][\"Salary\"].median()\n",
        "print(\"Median Salary for Employees Joined After 2015:\", median_salary)\n"
      ],
      "metadata": {
        "colab": {
          "base_uri": "https://localhost:8080/"
        },
        "id": "ttSGmBgIVPCW",
        "outputId": "c3183aa0-3b0a-4cce-ee3e-c677fc0e8215"
      },
      "execution_count": null,
      "outputs": [
        {
          "output_type": "stream",
          "name": "stdout",
          "text": [
            "Median Salary for Employees Joined After 2015: 60000.0\n"
          ]
        }
      ]
    },
    {
      "cell_type": "code",
      "source": [
        "df[\"Salary\"] = df.apply(lambda row: df[df[\"Department\"] == row[\"Department\"]][\"Salary\"].mean()\n",
        "                        if row[\"Salary\"] < 55000 else row[\"Salary\"], axis=1)\n",
        "print(\"Updated Salary DataFrame:\\n\", df)\n"
      ],
      "metadata": {
        "colab": {
          "base_uri": "https://localhost:8080/"
        },
        "id": "l4VsOEt_VSaE",
        "outputId": "4d4521cf-f96e-4280-daef-a37e13fcc407"
      },
      "execution_count": null,
      "outputs": [
        {
          "output_type": "stream",
          "name": "stdout",
          "text": [
            "Updated Salary DataFrame:\n",
            "    ID     Name  Age  Gender   Salary Department  Joining_Year  Experience  \\\n",
            "0   1    Alice   25  Female  60000.0         HR          2018           7   \n",
            "1   2      Bob   30    Male  60000.0         IT          2016           9   \n",
            "2   3  Charlie   35    Male  55000.0    Finance          2015          10   \n",
            "3   4    Diana   28  Female  62000.0         IT          2019           6   \n",
            "4   5      Eva   45  Female  70000.0         HR          2010          15   \n",
            "\n",
            "  Salary_Category  \n",
            "0             Low  \n",
            "1          Medium  \n",
            "2          Medium  \n",
            "3          Medium  \n",
            "4            High  \n"
          ]
        }
      ]
    },
    {
      "cell_type": "code",
      "source": [
        "pivot_table = df.pivot_table(index=\"Department\", columns=\"Gender\", aggfunc=\"size\", fill_value=0)\n",
        "print(\"Pivot Table:\\n\", pivot_table)\n"
      ],
      "metadata": {
        "colab": {
          "base_uri": "https://localhost:8080/"
        },
        "id": "phbAi1jnVYsn",
        "outputId": "00d7b7ff-e48e-4f64-9baf-995e94d917ab"
      },
      "execution_count": null,
      "outputs": [
        {
          "output_type": "stream",
          "name": "stdout",
          "text": [
            "Pivot Table:\n",
            " Gender      Female  Male\n",
            "Department              \n",
            "Finance          0     1\n",
            "HR               2     0\n",
            "IT               1     1\n"
          ]
        }
      ]
    },
    {
      "cell_type": "code",
      "source": [
        "import matplotlib.pyplot as plt\n",
        "\n",
        "df.groupby(\"Department\")[\"Salary\"].mean().plot(kind=\"bar\", title=\"Salary Distribution Across Departments\")\n",
        "plt.xlabel(\"Department\")\n",
        "plt.ylabel(\"Average Salary\")\n",
        "plt.show()\n"
      ],
      "metadata": {
        "colab": {
          "base_uri": "https://localhost:8080/",
          "height": 511
        },
        "id": "eCyTdBs6VbxH",
        "outputId": "eeb3d494-b91e-408b-97db-f875f3115e2e"
      },
      "execution_count": null,
      "outputs": [
        {
          "output_type": "display_data",
          "data": {
            "text/plain": [
              "<Figure size 640x480 with 1 Axes>"
            ],
            "image/png": "[encoded data removed]"
          },
          "metadata": {}
        }
      ]
    },
    {
      "cell_type": "code",
      "source": [
        "from sklearn.datasets import load_diabetes\n",
        "from sklearn.preprocessing import MinMaxScaler\n",
        "\n",
        "diabetes = load_diabetes()\n",
        "bmi_feature = diabetes.data[:, 2].reshape(-1, 1)\n",
        "\n",
        "scaler = MinMaxScaler()\n",
        "normalized_bmi = scaler.fit_transform(bmi_feature)\n",
        "\n",
        "print(\"Original BMI values:\", bmi_feature[:5].flatten())\n",
        "print(\"Normalized BMI values:\", normalized_bmi[:5].flatten())\n"
      ],
      "metadata": {
        "colab": {
          "base_uri": "https://localhost:8080/"
        },
        "id": "-z-TbbNiVilj",
        "outputId": "a20c3440-b283-4eba-f88c-5ec291218751"
      },
      "execution_count": null,
      "outputs": [
        {
          "output_type": "stream",
          "name": "stdout",
          "text": [
            "Original BMI values: [ 0.06169621 -0.05147406  0.04445121 -0.01159501 -0.03638469]\n",
            "Normalized BMI values: [0.58264463 0.14876033 0.51652893 0.30165289 0.20661157]\n"
          ]
        }
      ]
    },
    {
      "cell_type": "code",
      "source": [
        "from sklearn.datasets import load_iris\n",
        "from sklearn.preprocessing import StandardScaler\n",
        "\n",
        "iris = load_iris()\n",
        "petal_length = iris.data[:, 2].reshape(-1, 1)\n",
        "\n",
        "scaler = StandardScaler()\n",
        "standardized_petal_length = scaler.fit_transform(petal_length)\n",
        "\n",
        "print(\"Mean Before Standardization:\", petal_length.mean())\n",
        "print(\"Standard Deviation Before Standardization:\", petal_length.std())\n",
        "print(\"Mean After Standardization:\", standardized_petal_length.mean())\n",
        "print(\"Standard Deviation After Standardization:\", standardized_petal_length.std())\n"
      ],
      "metadata": {
        "colab": {
          "base_uri": "https://localhost:8080/"
        },
        "id": "rEJ3XmXLVlUN",
        "outputId": "93358ab7-4738-41c3-9f3c-050b514cfc73"
      },
      "execution_count": null,
      "outputs": [
        {
          "output_type": "stream",
          "name": "stdout",
          "text": [
            "Mean Before Standardization: 3.7580000000000005\n",
            "Standard Deviation Before Standardization: 1.759404065775303\n",
            "Mean After Standardization: -4.263256414560601e-16\n",
            "Standard Deviation After Standardization: 1.0\n"
          ]
        }
      ]
    },
    {
      "cell_type": "code",
      "source": [
        "from sklearn.datasets import load_wine\n",
        "\n",
        "wine = load_wine()\n",
        "features = wine.data[:, :2]  # Extract Alcohol & Malic Acid\n",
        "\n",
        "# Min-Max Normalization\n",
        "minmax_scaler = MinMaxScaler()\n",
        "normalized_features = minmax_scaler.fit_transform(features)\n",
        "\n",
        "# Z-score Standardization\n",
        "std_scaler = StandardScaler()\n",
        "standardized_features = std_scaler.fit_transform(features)\n",
        "\n",
        "print(\"Summary Before Transformation:\\n\", pd.DataFrame(features).describe())\n",
        "print(\"Summary After Min-Max Normalization:\\n\", pd.DataFrame(normalized_features).describe())\n",
        "print(\"Summary After Standardization:\\n\", pd.DataFrame(standardized_features).describe())\n"
      ],
      "metadata": {
        "colab": {
          "base_uri": "https://localhost:8080/"
        },
        "id": "qy9nTWwVVvuE",
        "outputId": "3e9ff536-9fc6-4e95-93f6-ca05d97b3cc0"
      },
      "execution_count": null,
      "outputs": [
        {
          "output_type": "stream",
          "name": "stdout",
          "text": [
            "Summary Before Transformation:\n",
            "                 0           1\n",
            "count  178.000000  178.000000\n",
            "mean    13.000618    2.336348\n",
            "std      0.811827    1.117146\n",
            "min     11.030000    0.740000\n",
            "25%     12.362500    1.602500\n",
            "50%     13.050000    1.865000\n",
            "75%     13.677500    3.082500\n",
            "max     14.830000    5.800000\n",
            "Summary After Min-Max Normalization:\n",
            "                 0           1\n",
            "count  178.000000  178.000000\n",
            "mean     0.518584    0.315484\n",
            "std      0.213639    0.220780\n",
            "min      0.000000    0.000000\n",
            "25%      0.350658    0.170455\n",
            "50%      0.531579    0.222332\n",
            "75%      0.696711    0.462945\n",
            "max      1.000000    1.000000\n",
            "Summary After Standardization:\n",
            "                   0             1\n",
            "count  1.780000e+02  1.780000e+02\n",
            "mean   7.943708e-15  3.592632e-16\n",
            "std    1.002821e+00  1.002821e+00\n",
            "min   -2.434235e+00 -1.432983e+00\n",
            "25%   -7.882448e-01 -6.587486e-01\n",
            "50%    6.099988e-02 -4.231120e-01\n",
            "75%    8.361286e-01  6.697929e-01\n",
            "max    2.259772e+00  3.109192e+00\n"
          ]
        }
      ]
    },
    {
      "cell_type": "code",
      "source": [
        "from sklearn.datasets import fetch_california_housing\n",
        "from sklearn.preprocessing import MinMaxScaler\n",
        "import numpy as np\n",
        "\n",
        "# Load dataset\n",
        "housing = fetch_california_housing()\n",
        "data = housing.data  # Features\n",
        "feature_names = housing.feature_names\n",
        "\n",
        "# Select two continuous features: MedInc (Median Income) and AveRooms (Average Rooms)\n",
        "feature1, feature2 = data[:, 0], data[:, 3]  # MedInc, AveRooms\n",
        "\n",
        "# Select two random data points\n",
        "point1, point2 = np.array([feature1[0], feature2[0]]), np.array([feature1[1], feature2[1]])\n",
        "\n",
        "# Compute Euclidean distance before normalization\n",
        "dist_before = np.linalg.norm(point1 - point2)\n",
        "\n",
        "# Apply Min-Max Normalization\n",
        "scaler = MinMaxScaler()\n",
        "normalized_features = scaler.fit_transform(data[:, [0, 3]])\n",
        "\n",
        "# Compute Euclidean distance after normalization\n",
        "normalized_point1, normalized_point2 = normalized_features[0], normalized_features[1]\n",
        "dist_after = np.linalg.norm(normalized_point1 - normalized_point2)\n",
        "\n",
        "print(\"Euclidean Distance Before Normalization:\", dist_before)\n",
        "print(\"Euclidean Distance After Normalization:\", dist_after)\n"
      ],
      "metadata": {
        "colab": {
          "base_uri": "https://localhost:8080/"
        },
        "id": "kZ-ezh67V8dn",
        "outputId": "c32aa328-3915-4273-9df8-80b883b78368"
      },
      "execution_count": null,
      "outputs": [
        {
          "output_type": "stream",
          "name": "stdout",
          "text": [
            "Euclidean Distance Before Normalization: 0.05712323813635894\n",
            "Euclidean Distance After Normalization: 0.002250288527657589\n"
          ]
        }
      ]
    },
    {
      "cell_type": "code",
      "source": [
        "import pandas as pd\n",
        "from sklearn.preprocessing import MinMaxScaler, StandardScaler\n",
        "\n",
        "# Create dataset with outliers\n",
        "data = [\n",
        "    [10, 50, 200, 5, 1000],\n",
        "    [12, 55, 210, 6, 1100],\n",
        "    [14, 60, 220, 7, 1200],\n",
        "    [16, 65, 230, 8, 1300],\n",
        "    [18, 70, 240, 9, 1400],\n",
        "    [20, 75, 250, 10, 1500],\n",
        "    [100, 500, 10000, 100, 50000]  # Outlier\n",
        "]\n",
        "\n",
        "df = pd.DataFrame(data, columns=[\"Feature1\", \"Feature2\", \"Feature3\", \"Feature4\", \"Feature5\"])\n",
        "print(\"Original DataFrame:\\n\", df)\n",
        "\n",
        "# Apply Min-Max Normalization\n",
        "minmax_scaler = MinMaxScaler()\n",
        "normalized_data = minmax_scaler.fit_transform(df)\n",
        "\n",
        "# Apply Z-score Standardization\n",
        "std_scaler = StandardScaler()\n",
        "standardized_data = std_scaler.fit_transform(df)\n",
        "\n",
        "# Convert back to DataFrame\n",
        "df_minmax = pd.DataFrame(normalized_data, columns=df.columns)\n",
        "df_standardized = pd.DataFrame(standardized_data, columns=df.columns)\n",
        "\n",
        "print(\"\\nMin-Max Normalized Data:\\n\", df_minmax)\n",
        "print(\"\\nZ-score Standardized Data:\\n\", df_standardized)\n"
      ],
      "metadata": {
        "colab": {
          "base_uri": "https://localhost:8080/"
        },
        "id": "238hXTz-Wh9Q",
        "outputId": "459c61ac-c9e3-4670-e677-9d2a85fccf62"
      },
      "execution_count": null,
      "outputs": [
        {
          "output_type": "stream",
          "name": "stdout",
          "text": [
            "Original DataFrame:\n",
            "    Feature1  Feature2  Feature3  Feature4  Feature5\n",
            "0        10        50       200         5      1000\n",
            "1        12        55       210         6      1100\n",
            "2        14        60       220         7      1200\n",
            "3        16        65       230         8      1300\n",
            "4        18        70       240         9      1400\n",
            "5        20        75       250        10      1500\n",
            "6       100       500     10000       100     50000\n",
            "\n",
            "Min-Max Normalized Data:\n",
            "    Feature1  Feature2  Feature3  Feature4  Feature5\n",
            "0  0.000000  0.000000  0.000000  0.000000  0.000000\n",
            "1  0.022222  0.011111  0.001020  0.010526  0.002041\n",
            "2  0.044444  0.022222  0.002041  0.021053  0.004082\n",
            "3  0.066667  0.033333  0.003061  0.031579  0.006122\n",
            "4  0.088889  0.044444  0.004082  0.042105  0.008163\n",
            "5  0.111111  0.055556  0.005102  0.052632  0.010204\n",
            "6  1.000000  1.000000  1.000000  1.000000  1.000000\n",
            "\n",
            "Z-score Standardized Data:\n",
            "    Feature1  Feature2  Feature3  Feature4  Feature5\n",
            "0 -0.573121 -0.489246 -0.415553 -0.484906 -0.422885\n",
            "1 -0.506256 -0.456630 -0.412629 -0.454049 -0.417023\n",
            "2 -0.439392 -0.424013 -0.409706 -0.423191 -0.411162\n",
            "3 -0.372528 -0.391397 -0.406782 -0.392333 -0.405300\n",
            "4 -0.305664 -0.358780 -0.403859 -0.361476 -0.399438\n",
            "5 -0.238800 -0.326164 -0.400935 -0.330618 -0.393576\n",
            "6  2.435762  2.446230  2.449464  2.446573  2.449385\n"
          ]
        }
      ]
    },
    {
      "cell_type": "code",
      "source": [
        "import matplotlib.pyplot as plt\n",
        "from sklearn.datasets import load_diabetes\n",
        "\n",
        "# Load dataset\n",
        "diabetes = load_diabetes()\n",
        "bmi_feature = diabetes.data[:, 2].reshape(-1, 1)\n",
        "\n",
        "# Apply Min-Max Normalization\n",
        "scaler_minmax = MinMaxScaler()\n",
        "normalized_bmi = scaler_minmax.fit_transform(bmi_feature)\n",
        "\n",
        "# Apply Z-score Standardization\n",
        "scaler_standard = StandardScaler()\n",
        "standardized_bmi = scaler_standard.fit_transform(bmi_feature)\n",
        "\n",
        "# Plot histograms\n",
        "plt.figure(figsize=(12, 5))\n",
        "\n",
        "plt.subplot(1, 3, 1)\n",
        "plt.hist(bmi_feature, bins=20, color='blue', alpha=0.7)\n",
        "plt.title(\"Original BMI Distribution\")\n",
        "\n",
        "plt.subplot(1, 3, 2)\n",
        "plt.hist(normalized_bmi, bins=20, color='green', alpha=0.7)\n",
        "plt.title(\"Min-Max Normalized BMI\")\n",
        "\n",
        "plt.subplot(1, 3, 3)\n",
        "plt.hist(standardized_bmi, bins=20, color='red', alpha=0.7)\n",
        "plt.title(\"Z-score Standardized BMI\")\n",
        "\n",
        "plt.show()\n"
      ],
      "metadata": {
        "colab": {
          "base_uri": "https://localhost:8080/",
          "height": 468
        },
        "id": "6wyVmpt2WmHZ",
        "outputId": "d94dffc5-65e9-4bb4-f593-1b0e4eb0f0ea"
      },
      "execution_count": null,
      "outputs": [
        {
          "output_type": "display_data",
          "data": {
            "text/plain": [
              "<Figure size 1200x500 with 3 Axes>"
            ],
            "image/png": "[encoded data removed]"
          },
          "metadata": {}
        }
      ]
    },
    {
      "cell_type": "code",
      "source": [
        "import numpy as np\n",
        "\n",
        "# Manually created dataset\n",
        "data = np.array([[50, 200], [60, 220], [70, 250], [80, 280], [90, 300]])\n",
        "\n",
        "# Custom Min-Max Normalization Function\n",
        "def min_max_normalize(arr):\n",
        "    return (arr - np.min(arr, axis=0)) / (np.max(arr, axis=0) - np.min(arr, axis=0))\n",
        "\n",
        "# Custom Z-score Standardization Function\n",
        "def z_score_standardize(arr):\n",
        "    return (arr - np.mean(arr, axis=0)) / np.std(arr, axis=0)\n",
        "\n",
        "# Apply Normalization & Standardization\n",
        "normalized_data = min_max_normalize(data)\n",
        "standardized_data = z_score_standardize(data)\n",
        "\n",
        "print(\"Original Data:\\n\", data)\n",
        "print(\"\\nMin-Max Normalized Data:\\n\", normalized_data)\n",
        "print(\"\\nZ-score Standardized Data:\\n\", standardized_data)\n"
      ],
      "metadata": {
        "colab": {
          "base_uri": "https://localhost:8080/"
        },
        "id": "TkKOwowQWpC0",
        "outputId": "358d35d4-2e5a-4a9a-8b0a-2d3b40912612"
      },
      "execution_count": null,
      "outputs": [
        {
          "output_type": "stream",
          "name": "stdout",
          "text": [
            "Original Data:\n",
            " [[ 50 200]\n",
            " [ 60 220]\n",
            " [ 70 250]\n",
            " [ 80 280]\n",
            " [ 90 300]]\n",
            "\n",
            "Min-Max Normalized Data:\n",
            " [[0.   0.  ]\n",
            " [0.25 0.2 ]\n",
            " [0.5  0.5 ]\n",
            " [0.75 0.8 ]\n",
            " [1.   1.  ]]\n",
            "\n",
            "Z-score Standardized Data:\n",
            " [[-1.41421356 -1.35581536]\n",
            " [-0.70710678 -0.81348922]\n",
            " [ 0.          0.        ]\n",
            " [ 0.70710678  0.81348922]\n",
            " [ 1.41421356  1.35581536]]\n"
          ]
        }
      ]
    },
    {
      "cell_type": "code",
      "source": [],
      "metadata": {
        "id": "OFRdSBJBWyTS"
      },
      "execution_count": null,
      "outputs": []
    }
  ]
}